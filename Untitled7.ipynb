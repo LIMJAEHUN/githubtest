{
 "cells": [
  {
   "cell_type": "code",
   "execution_count": 1,
   "metadata": {},
   "outputs": [
    {
     "ename": "SyntaxError",
     "evalue": "invalid syntax (<ipython-input-1-cf3ca4c39d1f>, line 23)",
     "output_type": "error",
     "traceback": [
      "\u001b[1;36m  File \u001b[1;32m\"<ipython-input-1-cf3ca4c39d1f>\"\u001b[1;36m, line \u001b[1;32m23\u001b[0m\n\u001b[1;33m    (with resizing)\u001b[0m\n\u001b[1;37m        ^\u001b[0m\n\u001b[1;31mSyntaxError\u001b[0m\u001b[1;31m:\u001b[0m invalid syntax\n"
     ]
    }
   ],
   "source": [
    "import cv2\n",
    "from glob import glob\n",
    "import numpy as np\n",
    "from matplotlib import pyplot as plt\n",
    "import math\n",
    "import pandas as pd\n",
    "\n",
    "ScaleTo = 70  # px to scale\n",
    "seed = 7  # fixing random\n",
    "\n",
    "path = '../input/plant-seedlings-classification/train/*/*.png' \n",
    "files = glob(path)\n",
    "\n",
    "trainImg = []\n",
    "trainLabel = []\n",
    "j = 1\n",
    "num = len(files)\n",
    "\n",
    "# Obtain images and resizing, obtain labels\n",
    "for img in files:\n",
    "    print(str(j) + \"/\" + str(num), end=\"\\r\")\n",
    "    trainImg.append(cv2.resize(cv2.imread(img), (ScaleTo, ScaleTo)))  # Get image\n",
    "    (with resizing)\n",
    "    trainLabel.append(img.split('/')[-2])  # Get image label (folder name)\n",
    "    j += 1\n",
    "\n",
    "trainImg = np.asarray(trainImg)  # Train images set\n",
    "trainLabel = pd.DataFrame(trainLabel)  # Train labels set"
   ]
  },
  {
   "cell_type": "code",
   "execution_count": null,
   "metadata": {},
   "outputs": [],
   "source": []
  }
 ],
 "metadata": {
  "kernelspec": {
   "display_name": "Python 3",
   "language": "python",
   "name": "python3"
  },
  "language_info": {
   "codemirror_mode": {
    "name": "ipython",
    "version": 3
   },
   "file_extension": ".py",
   "mimetype": "text/x-python",
   "name": "python",
   "nbconvert_exporter": "python",
   "pygments_lexer": "ipython3",
   "version": "3.7.1"
  }
 },
 "nbformat": 4,
 "nbformat_minor": 2
}
